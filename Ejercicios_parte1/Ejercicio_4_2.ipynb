{
 "cells": [
  {
   "cell_type": "code",
   "execution_count": null,
   "id": "9be81eec",
   "metadata": {},
   "outputs": [],
   "source": [
    "#Creamos una lista de felinos salvajes\n",
    "animales = [\"leopardo\", \"tigre\", \"jaguar\"]"
   ]
  },
  {
   "cell_type": "code",
   "execution_count": null,
   "id": "1d9eca00",
   "metadata": {},
   "outputs": [
    {
     "name": "stdout",
     "output_type": "stream",
     "text": [
      "Un leopardo es un felino salvaje.\n",
      "Un tigre es un felino salvaje.\n",
      "Un jaguar es un felino salvaje.\n",
      "Los felinos salvajes son majestuosos.\n"
     ]
    }
   ],
   "source": [
    "#Recorremos cada animal de la lista usando un bucle for\n",
    "for animal in animales:\n",
    "    #Imprimimos una oración personalizada para cada animal\n",
    "    print(f\"Un {animal} es un felino salvaje.\")\n",
    "#Imprimimos una frase general después del bucle\n",
    "print(\"Los felinos salvajes son majestuosos.\")"
   ]
  }
 ],
 "metadata": {
  "kernelspec": {
   "display_name": "Python 3",
   "language": "python",
   "name": "python3"
  },
  "language_info": {
   "codemirror_mode": {
    "name": "ipython",
    "version": 3
   },
   "file_extension": ".py",
   "mimetype": "text/x-python",
   "name": "python",
   "nbconvert_exporter": "python",
   "pygments_lexer": "ipython3",
   "version": "3.13.3"
  }
 },
 "nbformat": 4,
 "nbformat_minor": 5
}
