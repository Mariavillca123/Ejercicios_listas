{
 "cells": [
  {
   "cell_type": "code",
   "execution_count": null,
   "id": "d5666b1c",
   "metadata": {},
   "outputs": [],
   "source": [
    "#Creamos una lista con tres tipos de pizza que me gustan\n",
    "pizzas = [\"pepperoni\", \"hawaiana\", \"napolitana\", \"salami\"]"
   ]
  },
  {
   "cell_type": "code",
   "execution_count": null,
   "id": "8bb9d5c4",
   "metadata": {},
   "outputs": [
    {
     "name": "stdout",
     "output_type": "stream",
     "text": [
      "Me gusta la pizza de pepperoni.\n",
      "Me gusta la pizza de hawaiana.\n",
      "Me gusta la pizza de napolitana.\n",
      "Me gusta la pizza de salami.\n",
      "Realmente me encanta la pizza!\n"
     ]
    }
   ],
   "source": [
    "#Usamos un bucle for para recorrer la lista de pizzas\n",
    "for pizza in pizzas:\n",
    "    #Mostramos un mensaje personalizado para cada tipo de pizza\n",
    "    print(f\"Me gusta la pizza de {pizza}.\")\n",
    "#Mensaje final fuera del bucle\n",
    "print(\"Realmente me encanta la pizza!\")"
   ]
  }
 ],
 "metadata": {
  "kernelspec": {
   "display_name": "Python 3",
   "language": "python",
   "name": "python3"
  },
  "language_info": {
   "codemirror_mode": {
    "name": "ipython",
    "version": 3
   },
   "file_extension": ".py",
   "mimetype": "text/x-python",
   "name": "python",
   "nbconvert_exporter": "python",
   "pygments_lexer": "ipython3",
   "version": "3.13.3"
  }
 },
 "nbformat": 4,
 "nbformat_minor": 5
}
