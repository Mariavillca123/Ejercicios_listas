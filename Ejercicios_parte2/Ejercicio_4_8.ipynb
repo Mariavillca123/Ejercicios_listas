{
 "cells": [
  {
   "cell_type": "code",
   "execution_count": null,
   "id": "6aca9996",
   "metadata": {},
   "outputs": [
    {
     "name": "stdout",
     "output_type": "stream",
     "text": [
      "1\n",
      "8\n",
      "27\n",
      "64\n",
      "125\n",
      "216\n",
      "343\n",
      "512\n",
      "729\n",
      "1000\n"
     ]
    }
   ],
   "source": [
    "#Recorremos los números del 1 al 10\n",
    "for numeros in range(1, 11):\n",
    "    #Calculamos el cubo de cada número\n",
    "    cubo = numeros ** 3\n",
    "    #Imprimimos el cubo\n",
    "    print(cubo)"
   ]
  }
 ],
 "metadata": {
  "kernelspec": {
   "display_name": "Python 3",
   "language": "python",
   "name": "python3"
  },
  "language_info": {
   "codemirror_mode": {
    "name": "ipython",
    "version": 3
   },
   "file_extension": ".py",
   "mimetype": "text/x-python",
   "name": "python",
   "nbconvert_exporter": "python",
   "pygments_lexer": "ipython3",
   "version": "3.13.3"
  }
 },
 "nbformat": 4,
 "nbformat_minor": 5
}
