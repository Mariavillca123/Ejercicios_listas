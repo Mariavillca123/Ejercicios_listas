{
 "cells": [
  {
   "cell_type": "code",
   "execution_count": 1,
   "id": "6ac2b572",
   "metadata": {},
   "outputs": [
    {
     "name": "stdout",
     "output_type": "stream",
     "text": [
      "El número más pequeño es: 1\n",
      "El número más grande es: 1000000\n",
      "La suma total es: 500000500000\n"
     ]
    }
   ],
   "source": [
    "#Creamos una lista con los números del 1 al 1,000,000\n",
    "numeros = list(range(1, 1_000_001))\n",
    "\n",
    "#Mostramos el menor número de la lista\n",
    "print(\"El número más pequeño es:\", min(numeros))\n",
    "\n",
    "#Mostramos el mayor número de la lista\n",
    "print(\"El número más grande es:\", max(numeros))\n",
    "\n",
    "#Mostramos la suma de todos los números\n",
    "print(\"La suma total es:\", sum(numeros))"
   ]
  }
 ],
 "metadata": {
  "kernelspec": {
   "display_name": "Python 3",
   "language": "python",
   "name": "python3"
  },
  "language_info": {
   "codemirror_mode": {
    "name": "ipython",
    "version": 3
   },
   "file_extension": ".py",
   "mimetype": "text/x-python",
   "name": "python",
   "nbconvert_exporter": "python",
   "pygments_lexer": "ipython3",
   "version": "3.13.3"
  }
 },
 "nbformat": 4,
 "nbformat_minor": 5
}
