{
 "cells": [
  {
   "cell_type": "code",
   "execution_count": null,
   "id": "e1bbe829",
   "metadata": {},
   "outputs": [
    {
     "name": "stdout",
     "output_type": "stream",
     "text": [
      "[1, 8, 27, 64, 125, 216, 343, 512, 729, 1000]\n"
     ]
    }
   ],
   "source": [
    "#Creamos una lista llamada 'cubos' usando una comprensión de listas.\n",
    "#Esta comprensión calcula el cubo de cada número del 1 al 10.\n",
    "cubos = [n**3 for n in range(1, 11)]\n",
    "#Mostramos la lista de cubos en pantalla\n",
    "print(cubos)"
   ]
  }
 ],
 "metadata": {
  "kernelspec": {
   "display_name": "Python 3",
   "language": "python",
   "name": "python3"
  },
  "language_info": {
   "codemirror_mode": {
    "name": "ipython",
    "version": 3
   },
   "file_extension": ".py",
   "mimetype": "text/x-python",
   "name": "python",
   "nbconvert_exporter": "python",
   "pygments_lexer": "ipython3",
   "version": "3.13.3"
  }
 },
 "nbformat": 4,
 "nbformat_minor": 5
}
