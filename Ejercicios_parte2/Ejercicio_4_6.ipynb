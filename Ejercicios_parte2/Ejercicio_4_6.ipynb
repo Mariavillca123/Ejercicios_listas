{
 "cells": [
  {
   "cell_type": "code",
   "execution_count": 1,
   "id": "50ff49d4",
   "metadata": {},
   "outputs": [
    {
     "name": "stdout",
     "output_type": "stream",
     "text": [
      "1\n",
      "3\n",
      "5\n",
      "7\n",
      "9\n",
      "11\n",
      "13\n",
      "15\n",
      "17\n",
      "19\n"
     ]
    }
   ],
   "source": [
    "#Usamos range() con un paso de 2 para generar solo impares del 1 al 20\n",
    "for numeros in range(1, 21, 2):\n",
    "    #Imprimimos cada número impar\n",
    "    print(numeros)"
   ]
  }
 ],
 "metadata": {
  "kernelspec": {
   "display_name": "Python 3",
   "language": "python",
   "name": "python3"
  },
  "language_info": {
   "codemirror_mode": {
    "name": "ipython",
    "version": 3
   },
   "file_extension": ".py",
   "mimetype": "text/x-python",
   "name": "python",
   "nbconvert_exporter": "python",
   "pygments_lexer": "ipython3",
   "version": "3.13.3"
  }
 },
 "nbformat": 4,
 "nbformat_minor": 5
}
